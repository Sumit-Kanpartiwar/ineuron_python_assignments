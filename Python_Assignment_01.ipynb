{
 "cells": [
  {
   "cell_type": "markdown",
   "id": "31dec173",
   "metadata": {},
   "source": [
    "1. In the below elements which of them are values or an expression? eg:- values can be integer or string and expressions will be mathematical operators.\n",
    "\n",
    "Values=>  'hello', -87.8, 6\n",
    "Expression=> * - / "
   ]
  },
  {
   "cell_type": "markdown",
   "id": "515952b4",
   "metadata": {},
   "source": [
    "2. What is the difference between string and variable?\n",
    "\n",
    "Ans=> String is a data type in python, variable is something that is use to hold such data. String is defined with a word enclosed within \"\", while variable is defined with word/charachter without any \"\"."
   ]
  },
  {
   "cell_type": "markdown",
   "id": "a4fcfd83",
   "metadata": {},
   "source": [
    "3. Describe three different data types.\n",
    "\n",
    "Answer:-\n",
    "Data types in python:\n",
    "    Numeric: holds numeric value\n",
    "        Integers: contains positive or negative whole numbers.\n",
    "        Float: can contain floating point numbers or can specify scientific notation.\n",
    "        Complex Numbers: real + imaginary part (eg 4+5j)\n",
    "    \n",
    "   Sequence: ordered collection of similar or different data types.\n",
    "        String: Are arrays of bytes representing unicode characters.\n",
    "        List: ordered collection of data, generally of different types\n",
    "        Tuple: ordered collection of python objects, tuples are immutable i.e. tuples cannot be modified \n",
    "               after it is created.\n",
    "    \n",
    "   Boolean: Data type with one of the two built-in values, True or False. \n"
   ]
  },
  {
   "cell_type": "markdown",
   "id": "4bc7a2b4",
   "metadata": {},
   "source": [
    "4. What is an expression made up of? What do all expressions do?\n",
    "Answer:\n",
    "An expression is made up of operators and operends, expressions are evaluated based on the precidence of the operators to evaluate some other value. An expression has some resulting value."
   ]
  },
  {
   "cell_type": "markdown",
   "id": "38254097",
   "metadata": {},
   "source": [
    "5. This assignment statements, like spam = 10. What is the difference between an expression and a statement?\n",
    "\n",
    "Expressions are statements, but statements may not be expressions.\n",
    "\n",
    "Expressions: An Expression is a sequence or combination of values, variables, operators and function calls that                can be reduced to some kind of \"value\", which can be any Python object.\n",
    "\n",
    "Statements: Any Instruction that a python interpreter can execute (carry out) is called a Statement. Statements               are everything that can make up a line (or several lines) of Python code.\n"
   ]
  },
  {
   "cell_type": "markdown",
   "id": "640e6f3e",
   "metadata": {},
   "source": [
    "6. After running the following code, what does the variable bacon contain?\n",
    "\n",
    "Answer:- bacon contains 22, because we didn't saved after adding 1 to bacon. To change the contained information, we need to use bacon+=1 or bacon=bacon+1\n"
   ]
  },
  {
   "cell_type": "code",
   "execution_count": 1,
   "id": "6be6158d",
   "metadata": {},
   "outputs": [],
   "source": [
    "bacon = 22"
   ]
  },
  {
   "cell_type": "code",
   "execution_count": 2,
   "id": "2cd63aec",
   "metadata": {},
   "outputs": [
    {
     "data": {
      "text/plain": [
       "23"
      ]
     },
     "execution_count": 2,
     "metadata": {},
     "output_type": "execute_result"
    }
   ],
   "source": [
    "bacon + 1"
   ]
  },
  {
   "cell_type": "markdown",
   "id": "ecb4f897",
   "metadata": {},
   "source": [
    "7. What should the values of the following two terms be?\n"
   ]
  },
  {
   "cell_type": "code",
   "execution_count": 3,
   "id": "35d84287",
   "metadata": {},
   "outputs": [
    {
     "data": {
      "text/plain": [
       "'spamspamspam'"
      ]
     },
     "execution_count": 3,
     "metadata": {},
     "output_type": "execute_result"
    }
   ],
   "source": [
    "'spam' + 'spamspam'\n"
   ]
  },
  {
   "cell_type": "code",
   "execution_count": 4,
   "id": "8b037799",
   "metadata": {},
   "outputs": [
    {
     "data": {
      "text/plain": [
       "'spamspamspam'"
      ]
     },
     "execution_count": 4,
     "metadata": {},
     "output_type": "execute_result"
    }
   ],
   "source": [
    "'spam' * 3\n"
   ]
  },
  {
   "cell_type": "markdown",
   "id": "165c66b0",
   "metadata": {},
   "source": [
    "8. Why is eggs a valid variable name while 100 is invalid?\n",
    " \n",
    " Answer:- A variable name must start with a letter or an underscore character (_) A variable name cannot start with a digit. A variable name can only contain alpha-numeric characters and underscores ( a-z, A-Z , 0-9 , and _ ) "
   ]
  },
  {
   "cell_type": "markdown",
   "id": "289bdb48",
   "metadata": {},
   "source": [
    "9. What three functions can be used to get the integer, floating-point number, or string version of a value?\n",
    "int(value) to integer\n",
    "float(2.4) for floating point number \n",
    "str(value) for string "
   ]
  },
  {
   "cell_type": "code",
   "execution_count": 6,
   "id": "ebe5a1c8",
   "metadata": {},
   "outputs": [
    {
     "data": {
      "text/plain": [
       "4.5"
      ]
     },
     "execution_count": 6,
     "metadata": {},
     "output_type": "execute_result"
    }
   ],
   "source": [
    "float(4.5)"
   ]
  },
  {
   "cell_type": "markdown",
   "id": "680c96e9",
   "metadata": {},
   "source": [
    "10. Why does this expression cause an error? How can you fix it?\n",
    "    'I have eaten ' + 99 + ' burritos.'\n",
    "Answer:-\n",
    "    -It causes error beacause we are trying to concatinate two different data type(strings and int). To fix this we need to covert 99 int typ to string type '99'. "
   ]
  },
  {
   "cell_type": "code",
   "execution_count": 5,
   "id": "56fddbbe",
   "metadata": {},
   "outputs": [
    {
     "data": {
      "text/plain": [
       "'I have eaten 99 burritos.'"
      ]
     },
     "execution_count": 5,
     "metadata": {},
     "output_type": "execute_result"
    }
   ],
   "source": [
    "'I have eaten ' + '99' + ' burritos.'"
   ]
  },
  {
   "cell_type": "code",
   "execution_count": null,
   "id": "4c740edc",
   "metadata": {},
   "outputs": [],
   "source": []
  }
 ],
 "metadata": {
  "kernelspec": {
   "display_name": "Python 3 (ipykernel)",
   "language": "python",
   "name": "python3"
  },
  "language_info": {
   "codemirror_mode": {
    "name": "ipython",
    "version": 3
   },
   "file_extension": ".py",
   "mimetype": "text/x-python",
   "name": "python",
   "nbconvert_exporter": "python",
   "pygments_lexer": "ipython3",
   "version": "3.9.7"
  }
 },
 "nbformat": 4,
 "nbformat_minor": 5
}
