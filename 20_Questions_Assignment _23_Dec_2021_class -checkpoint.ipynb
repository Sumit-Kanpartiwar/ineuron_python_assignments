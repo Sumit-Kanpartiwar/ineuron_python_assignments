{
 "cells": [
  {
   "cell_type": "code",
   "execution_count": null,
   "id": "38bff6d4",
   "metadata": {},
   "outputs": [],
   "source": [
    "1 . you have to write a fun which will take string and return a len of \n",
    "it without using a inbuilt fun len\n",
    "2 . write a fun which will be able to print an index of all premitive element which you will pass \n",
    "3 . Write a fun which will take input as a dict and give me out as a list of all the values \n",
    "even in case of 2 level nesting it should work . \n",
    "4 . write a fun which will take another function as an input and return me an output \n",
    "5. write a function whihc will take multiple list as a input and give me concatnation of all the element as \n",
    "and output \n",
    "6 . write a function which will be able to take a list as an input return an index of each element \n",
    "like a inbuilt index function but even if we have repetative element it should return index \n",
    "7 . Write a function which will whould return list of all the file name from a directory . \n",
    "8  . write a function which will be able to show your system configuration . \n",
    "9 . write a function which will be able to show date and time  . \n",
    "10 . write a function whihc will be able to read a image file and show it to you .\n",
    "11 . write a function which can read video file and play for you . \n",
    "12  . write a function whihc can move a file from one directory to another directory . \n",
    "13 . write a function which will be able to shutdonw your system . \n",
    "14 . write a function whihc will be able to access your mail . \n",
    "15 . write a func bywhcih i can send a mail to anyone \n",
    "16. write a func to read a complete PDf file . \n",
    "17. write a function to read a word file . \n",
    "18 . write a function which can help you to filter only word file from a directory . \n",
    "19 . write a function by which you can print an ip address of your system . \n",
    "20 . write a function by which you will be able to append two PDF files . "
   ]
  },
  {
   "cell_type": "code",
   "execution_count": null,
   "id": "f0323543",
   "metadata": {},
   "outputs": [],
   "source": [
    "sudhanshu@ineuron.ai"
   ]
  },
  {
   "cell_type": "code",
   "execution_count": 13,
   "id": "fc83e8ac",
   "metadata": {},
   "outputs": [],
   "source": [
    "# 1st \n",
    "def length(a):\n",
    "    \"\"\"A simple function that returns length of input string \"\"\"    \n",
    "    num=0\n",
    "    for x in a:\n",
    "        num+=1\n",
    "    return num"
   ]
  },
  {
   "cell_type": "code",
   "execution_count": 14,
   "id": "51295bac",
   "metadata": {},
   "outputs": [
    {
     "name": "stdout",
     "output_type": "stream",
     "text": [
      "djfnl\n"
     ]
    }
   ],
   "source": [
    "a=input()\n",
    "s=length(a)"
   ]
  },
  {
   "cell_type": "code",
   "execution_count": 1,
   "id": "55914c76",
   "metadata": {},
   "outputs": [],
   "source": [
    "# 2nd \n",
    "def index(*a):\n",
    "    \"\"\"A simple function that returns index of input each premitive element that is passed \"\"\"\n",
    "    for x in range(len(a)):\n",
    "        if type(a[x])==int:\n",
    "            print('indexing of not possible for int')\n",
    "        elif type(a[x])==str:\n",
    "            for y in range(len(a[x])):\n",
    "                print('index of',a[x][y],'is',y)\n",
    "        elif type(a[x])==tuple:\n",
    "            for y in range(len(a[x])):\n",
    "                print('index of',a[x][y],'is',y)\n",
    "        elif type(a[x])==list:\n",
    "            for y in range(len(a[x])):\n",
    "                print('index of',a[x][y],'is',y)\n",
    "        elif type(a[x])==set:\n",
    "            print('indexing of not possible for set')\n",
    "        elif type(a[x])==dict:\n",
    "            listr=list(a[x].keys())\n",
    "            for y in range(len(listr)):\n",
    "                print('index of',listr[y],'is',y)\n",
    "        "
   ]
  },
  {
   "cell_type": "code",
   "execution_count": 4,
   "id": "73606666",
   "metadata": {},
   "outputs": [
    {
     "name": "stdout",
     "output_type": "stream",
     "text": [
      "indexing of not possible for int\n",
      "index of f is 0\n",
      "index of u is 1\n",
      "index of m is 2\n",
      "index of i is 3\n",
      "index of 4 is 0\n",
      "index of 5 is 1\n",
      "index of 6 is 2\n",
      "index of 7 is 3\n",
      "index of r is 0\n",
      "index of t is 1\n",
      "index of y is 2\n",
      "index of 4 is 0\n",
      "index of 5 is 1\n",
      "index of 6 is 2\n",
      "indexing of not possible for set\n"
     ]
    }
   ],
   "source": [
    "index(1,'fumi',[4,5,6,7],{'r':5,'t':4, 'y':7},(4,5,6),{3,5,6,6,4})"
   ]
  },
  {
   "cell_type": "code",
   "execution_count": 16,
   "id": "86eccf14",
   "metadata": {},
   "outputs": [],
   "source": [
    "#3rd\n",
    "def dict_values(dict_a):\n",
    "    \"\"\"A function which take dictionary as input and returns the all the values even if we have dictionary in dictionary \"\"\"\n",
    "    update_list=[]\n",
    "    for x in dict_a.keys():\n",
    "        if type(dict_a[x])==dict:\n",
    "            for y in dict_a[x].keys():\n",
    "                update_list.append(dict_a[x][y])\n",
    "        else:update_list.append(dict_a[x])\n",
    "    return update_list"
   ]
  },
  {
   "cell_type": "code",
   "execution_count": 17,
   "id": "9807522c",
   "metadata": {
    "scrolled": true
   },
   "outputs": [
    {
     "name": "stdout",
     "output_type": "stream",
     "text": [
      "[5, 4, 7, 5, 4, 7]\n"
     ]
    }
   ],
   "source": [
    "a=dict_values({'r':5,'t':4, 'y':7, 'e':{'r':5,'t':4, 'y':7}})\n",
    "print(a)"
   ]
  },
  {
   "cell_type": "code",
   "execution_count": 18,
   "id": "9fdb92cc",
   "metadata": {},
   "outputs": [
    {
     "data": {
      "text/plain": [
       "list"
      ]
     },
     "execution_count": 18,
     "metadata": {},
     "output_type": "execute_result"
    }
   ],
   "source": [
    "type(a)"
   ]
  },
  {
   "cell_type": "code",
   "execution_count": 34,
   "id": "b11853a1",
   "metadata": {},
   "outputs": [],
   "source": [
    "#4th\n",
    "def test1():\n",
    "    a=input()\n",
    "    return a\n",
    "def test2():\n",
    "    a=input()\n",
    "    return a+test1()"
   ]
  },
  {
   "cell_type": "code",
   "execution_count": 21,
   "id": "054611eb",
   "metadata": {},
   "outputs": [],
   "source": [
    "#5th\n",
    "def list_Con(*args):\n",
    "    \"\"\"function which will take multiple list as a input and give me concatnation of all the element as \n",
    "and output \"\"\"\n",
    "    list_a=[]\n",
    "    for x in args:\n",
    "        list_a.extend(x)\n",
    "    print(list_a)"
   ]
  },
  {
   "cell_type": "code",
   "execution_count": 22,
   "id": "4ad60e37",
   "metadata": {},
   "outputs": [
    {
     "name": "stdout",
     "output_type": "stream",
     "text": [
      "[2, 3, 'ru', (4, 5, 3)]\n"
     ]
    }
   ],
   "source": [
    "list_Con([2,3], ['ru',(4,5,3)])"
   ]
  },
  {
   "cell_type": "code",
   "execution_count": 6,
   "id": "855e5a82",
   "metadata": {},
   "outputs": [],
   "source": [
    "#6th\n",
    "def indexing(a):\n",
    "    \"\"\"a function which will be able to take a list as an input return an index of each element \n",
    "like a inbuilt index function but even if we have repetative element it should return index \"\"\"\n",
    "    for i in range(len(a)):\n",
    "        print('Index of',a[i],'is',i)"
   ]
  },
  {
   "cell_type": "code",
   "execution_count": 8,
   "id": "3bcf40f6",
   "metadata": {},
   "outputs": [
    {
     "name": "stdout",
     "output_type": "stream",
     "text": [
      "Index of 2 is 0\n",
      "Index of 4 is 1\n",
      "Index of 5 is 2\n",
      "Index of 5 is 3\n",
      "Index of 5 is 4\n",
      "Index of sumit is 5\n",
      "Index of (4+7j) is 6\n"
     ]
    }
   ],
   "source": [
    "indexing([2,4,5,5,5,'sumit',4+7j])"
   ]
  },
  {
   "cell_type": "code",
   "execution_count": 36,
   "id": "36ac6f4f",
   "metadata": {},
   "outputs": [],
   "source": [
    "#7th\n",
    "import os #import os module\n",
    "def fun():\n",
    "    \"\"\"function which will whould return list of all the file name from a directory\"\"\"\n",
    "    os.chdir(r'C:\\Users\\Sumit\\Desktop\\BHLP\\Revision Classes\\Thermal expansion')\n",
    "    print(len(os.listdir()))\n"
   ]
  },
  {
   "cell_type": "code",
   "execution_count": 37,
   "id": "66819b80",
   "metadata": {},
   "outputs": [
    {
     "name": "stdout",
     "output_type": "stream",
     "text": [
      "2\n"
     ]
    }
   ],
   "source": [
    "fun()"
   ]
  },
  {
   "cell_type": "code",
   "execution_count": 64,
   "id": "487fe84f",
   "metadata": {},
   "outputs": [],
   "source": [
    "#17th\n",
    "import os\n",
    "folder_path=r'C:\\Users\\Sumit\\Desktop\\Python\\text_files'\n",
    "file_path=r'C:\\Users\\Sumit\\Desktop\\Python\\text_files\\1.txt'\n",
    "\n",
    "def word_file_reader():\n",
    "    \"\"\" a function to read a word file.\"\"\"\n",
    "    os.chdir(folder_path)\n",
    "    with open(file_path,'r') as f:\n",
    "        print(f.read()) \n"
   ]
  },
  {
   "cell_type": "code",
   "execution_count": 65,
   "id": "43bbc330",
   "metadata": {},
   "outputs": [
    {
     "name": "stdout",
     "output_type": "stream",
     "text": [
      "sumit\n",
      "\n"
     ]
    }
   ],
   "source": [
    "word_file_reader()"
   ]
  },
  {
   "cell_type": "code",
   "execution_count": 73,
   "id": "cadba588",
   "metadata": {},
   "outputs": [],
   "source": [
    "#18th\n",
    "import os\n",
    "def files_filter(folder_path):\n",
    "    \"\"\"a function which can help you to filter only word file from a directory\"\"\"\n",
    "    List_of_docx_files=[]\n",
    "    os.chdir(folder_path)\n",
    "    for x in os.listdir():\n",
    "        if x.endswith('.docx'):\n",
    "            List_of_docx_files.append(x)\n",
    "    print(List_of_docx_files)"
   ]
  },
  {
   "cell_type": "code",
   "execution_count": 77,
   "id": "ce8513e0",
   "metadata": {},
   "outputs": [
    {
     "name": "stdout",
     "output_type": "stream",
     "text": [
      "['Cover Letter Dasault.docx', 'Cover Letter.docx', 'Nikhil resume.docx', 'Sumit Govind Kanpartiwar1 (1).docx', 'Sumit Govind Kanpartiwar1 updated.docx', 'Sumit Govind Kanpartiwar12.docx', 'Sumit Govind KanpartiwarCAT.docx', 'Sumit Govind KanpartiwarR1r.docx', 'Sumit-Govind-Kanpartiwar.docx', 'sumitf.docx']\n"
     ]
    }
   ],
   "source": [
    "folder_path=r'C:\\Users\\Sumit\\Desktop\\Resumes'\n",
    "files_filter(folder_path)"
   ]
  },
  {
   "cell_type": "code",
   "execution_count": 48,
   "id": "c1a3e25a",
   "metadata": {},
   "outputs": [],
   "source": [
    "#9th\n",
    "import datetime\n",
    "def showDnT():\n",
    "    \"\"\"a function which will be able to show date and time\"\"\"\n",
    "    print(datetime.datetime.now())"
   ]
  },
  {
   "cell_type": "code",
   "execution_count": 49,
   "id": "b6149eff",
   "metadata": {},
   "outputs": [
    {
     "name": "stdout",
     "output_type": "stream",
     "text": [
      "2022-02-01 15:17:27.133018\n"
     ]
    }
   ],
   "source": [
    "showDnT()"
   ]
  },
  {
   "cell_type": "code",
   "execution_count": 79,
   "id": "f1b208a0",
   "metadata": {
    "scrolled": false
   },
   "outputs": [
    {
     "ename": "ModuleNotFoundError",
     "evalue": "No module named 'cv2'",
     "output_type": "error",
     "traceback": [
      "\u001b[1;31m---------------------------------------------------------------------------\u001b[0m",
      "\u001b[1;31mModuleNotFoundError\u001b[0m                       Traceback (most recent call last)",
      "\u001b[1;32m~\\AppData\\Local\\Temp/ipykernel_11184/1531250178.py\u001b[0m in \u001b[0;36m<module>\u001b[1;34m\u001b[0m\n\u001b[0;32m      1\u001b[0m \u001b[1;31m#10th\u001b[0m\u001b[1;33m\u001b[0m\u001b[1;33m\u001b[0m\u001b[0m\n\u001b[0;32m      2\u001b[0m \u001b[1;31m#write a function whihc will be able to read a image file and show it to you\u001b[0m\u001b[1;33m\u001b[0m\u001b[1;33m\u001b[0m\u001b[0m\n\u001b[1;32m----> 3\u001b[1;33m \u001b[1;32mimport\u001b[0m \u001b[0mcv2\u001b[0m\u001b[1;33m\u001b[0m\u001b[1;33m\u001b[0m\u001b[0m\n\u001b[0m\u001b[0;32m      4\u001b[0m \u001b[0mimg\u001b[0m\u001b[1;33m=\u001b[0m\u001b[0mcv2\u001b[0m\u001b[1;33m.\u001b[0m\u001b[0mimread\u001b[0m\u001b[1;33m(\u001b[0m\u001b[1;34mr'C:\\Users\\Sumit\\Desktop\\Resumes\\WhatsApp Image 2021-12-11 at 9.44.50 PM.jpeg'\u001b[0m\u001b[1;33m)\u001b[0m\u001b[1;33m\u001b[0m\u001b[1;33m\u001b[0m\u001b[0m\n\u001b[0;32m      5\u001b[0m \u001b[0mcv2\u001b[0m\u001b[1;33m.\u001b[0m\u001b[0mimshow\u001b[0m\u001b[1;33m(\u001b[0m\u001b[1;34m'image'\u001b[0m\u001b[1;33m,\u001b[0m\u001b[0mimg\u001b[0m\u001b[1;33m)\u001b[0m\u001b[1;33m\u001b[0m\u001b[1;33m\u001b[0m\u001b[0m\n",
      "\u001b[1;31mModuleNotFoundError\u001b[0m: No module named 'cv2'"
     ]
    }
   ],
   "source": [
    "#10th\n",
    "#write a function whihc will be able to read a image file and show it to you\n",
    "import cv2\n",
    "img=cv2.imread(r'C:\\Users\\Sumit\\Desktop\\Resumes\\WhatsApp Image 2021-12-11 at 9.44.50 PM.jpeg')\n",
    "cv2.imshow('image',img)"
   ]
  },
  {
   "cell_type": "code",
   "execution_count": null,
   "id": "280a987b",
   "metadata": {},
   "outputs": [],
   "source": []
  }
 ],
 "metadata": {
  "kernelspec": {
   "display_name": "Python 3 (ipykernel)",
   "language": "python",
   "name": "python3"
  },
  "language_info": {
   "codemirror_mode": {
    "name": "ipython",
    "version": 3
   },
   "file_extension": ".py",
   "mimetype": "text/x-python",
   "name": "python",
   "nbconvert_exporter": "python",
   "pygments_lexer": "ipython3",
   "version": "3.9.7"
  }
 },
 "nbformat": 4,
 "nbformat_minor": 5
}
